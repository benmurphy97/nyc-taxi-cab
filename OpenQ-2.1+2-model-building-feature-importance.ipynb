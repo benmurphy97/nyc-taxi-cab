{
 "cells": [
  {
   "cell_type": "code",
   "execution_count": 1,
   "id": "c9cd2b32-9aac-4259-b147-25e41ed11309",
   "metadata": {},
   "outputs": [],
   "source": [
    "import os\n",
    "\n",
    "import pandas as pd\n",
    "import numpy as np\n",
    "\n",
    "import matplotlib.pyplot as plt\n",
    "import seaborn as sns"
   ]
  },
  {
   "cell_type": "code",
   "execution_count": 2,
   "id": "e27804af-94a4-4ffd-85a8-f2e846b80e67",
   "metadata": {},
   "outputs": [
    {
     "data": {
      "text/plain": [
       "'/Users/benmurphy/Projects/nyc'"
      ]
     },
     "execution_count": 2,
     "metadata": {},
     "output_type": "execute_result"
    }
   ],
   "source": [
    "os.chdir('..')\n",
    "os.getcwd()"
   ]
  },
  {
   "cell_type": "code",
   "execution_count": null,
   "id": "9a7e1c39-ff22-4786-8619-1edb0edc2315",
   "metadata": {},
   "outputs": [],
   "source": [
    "df = pd.read_csv('cleaned_trip_data.csv', \n",
    "                 usecols=['medallion',\n",
    "                          'pickup_hour', 'pickup_day_of_week', 'pickup_day_of_month',\n",
    "                          'tip_amount', 'fare_amount' \n",
    "                         ])\n",
    "\n",
    "df.head()"
   ]
  },
  {
   "cell_type": "markdown",
   "id": "2102cec2-c705-4d84-898f-c28cd619c323",
   "metadata": {},
   "source": [
    "### 5. What features influence fare and tip amounts?\n",
    "### 6. Can we build a model to predict fare and tip amount?"
   ]
  },
  {
   "cell_type": "code",
   "execution_count": null,
   "id": "2ad3881d-193d-4968-8b5a-7ef418431469",
   "metadata": {},
   "outputs": [],
   "source": []
  },
  {
   "cell_type": "code",
   "execution_count": null,
   "id": "6c46374d-4e72-4dcc-8373-cb8cfe8cd875",
   "metadata": {},
   "outputs": [],
   "source": []
  },
  {
   "cell_type": "code",
   "execution_count": null,
   "id": "01527caf-fca5-4483-a0e0-a2739e0b1b5b",
   "metadata": {},
   "outputs": [],
   "source": []
  },
  {
   "cell_type": "code",
   "execution_count": null,
   "id": "e8ef86f1-8662-4da6-b72e-a48daf01190f",
   "metadata": {},
   "outputs": [],
   "source": []
  },
  {
   "cell_type": "code",
   "execution_count": null,
   "id": "7f17cd41-cee9-4996-bee8-6555cc020c57",
   "metadata": {},
   "outputs": [],
   "source": []
  },
  {
   "cell_type": "code",
   "execution_count": null,
   "id": "478f279b-6a7f-46d7-a5f8-863499ec039d",
   "metadata": {},
   "outputs": [],
   "source": []
  },
  {
   "cell_type": "code",
   "execution_count": null,
   "id": "78bd6212-a42d-4b92-91ab-ed503c12eac9",
   "metadata": {},
   "outputs": [],
   "source": []
  },
  {
   "cell_type": "code",
   "execution_count": null,
   "id": "e7747fbd-7ef3-4664-87e5-dfaf8396c148",
   "metadata": {},
   "outputs": [],
   "source": []
  },
  {
   "cell_type": "code",
   "execution_count": null,
   "id": "17075d59-ec8d-430d-a00e-d23fc13358a7",
   "metadata": {},
   "outputs": [],
   "source": []
  },
  {
   "cell_type": "code",
   "execution_count": null,
   "id": "08bd1853-3c9e-422b-9112-64759a04cd92",
   "metadata": {},
   "outputs": [],
   "source": []
  },
  {
   "cell_type": "code",
   "execution_count": null,
   "id": "42abf662-931f-4f47-8272-ed5a6f03e22c",
   "metadata": {},
   "outputs": [],
   "source": []
  },
  {
   "cell_type": "code",
   "execution_count": null,
   "id": "200b6b59-6bc8-4b10-8dbb-c45e4b7efb70",
   "metadata": {},
   "outputs": [],
   "source": []
  }
 ],
 "metadata": {
  "kernelspec": {
   "display_name": "nyc-env",
   "language": "python",
   "name": "nyc-env"
  },
  "language_info": {
   "codemirror_mode": {
    "name": "ipython",
    "version": 3
   },
   "file_extension": ".py",
   "mimetype": "text/x-python",
   "name": "python",
   "nbconvert_exporter": "python",
   "pygments_lexer": "ipython3",
   "version": "3.10.11"
  }
 },
 "nbformat": 4,
 "nbformat_minor": 5
}
