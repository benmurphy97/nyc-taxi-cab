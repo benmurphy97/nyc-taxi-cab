{
 "cells": [
  {
   "cell_type": "code",
   "execution_count": 1,
   "id": "ab2493ce-dac4-4eb6-91f4-8e72c5eb8fa3",
   "metadata": {},
   "outputs": [],
   "source": [
    "import os\n",
    "\n",
    "import pandas as pd\n",
    "import numpy as np\n",
    "\n",
    "import matplotlib.pyplot as plt\n",
    "import seaborn as sns"
   ]
  },
  {
   "cell_type": "code",
   "execution_count": 2,
   "id": "1a3b9d52-df3a-4e70-8ae1-125e64f6ff05",
   "metadata": {},
   "outputs": [
    {
     "data": {
      "text/plain": [
       "'/Users/benmurphy/Projects/nyc'"
      ]
     },
     "execution_count": 2,
     "metadata": {},
     "output_type": "execute_result"
    }
   ],
   "source": [
    "os.chdir('..')\n",
    "os.getcwd()"
   ]
  },
  {
   "cell_type": "code",
   "execution_count": 3,
   "id": "20146c1a-abf9-4971-afd5-4fae4f8051af",
   "metadata": {},
   "outputs": [
    {
     "name": "stderr",
     "output_type": "stream",
     "text": [
      "/var/folders/xr/_sn2jn9s3xd13fp9ljzys7tm0000gn/T/ipykernel_8793/2752665082.py:1: DtypeWarning: Columns (4) have mixed types. Specify dtype option on import or set low_memory=False.\n",
      "  trips = pd.read_csv('data/trip_data/trip_data_11.csv')\n"
     ]
    },
    {
     "data": {
      "text/plain": [
       "(14388451, 14)"
      ]
     },
     "execution_count": 3,
     "metadata": {},
     "output_type": "execute_result"
    }
   ],
   "source": [
    "trips = pd.read_csv('data/trip_data/trip_data_11.csv')\n",
    "\n",
    "trips.shape"
   ]
  },
  {
   "cell_type": "code",
   "execution_count": 4,
   "id": "3aa5bf1e-00b5-40cd-8062-916328c40dfe",
   "metadata": {},
   "outputs": [
    {
     "data": {
      "text/html": [
       "<div>\n",
       "<style scoped>\n",
       "    .dataframe tbody tr th:only-of-type {\n",
       "        vertical-align: middle;\n",
       "    }\n",
       "\n",
       "    .dataframe tbody tr th {\n",
       "        vertical-align: top;\n",
       "    }\n",
       "\n",
       "    .dataframe thead th {\n",
       "        text-align: right;\n",
       "    }\n",
       "</style>\n",
       "<table border=\"1\" class=\"dataframe\">\n",
       "  <thead>\n",
       "    <tr style=\"text-align: right;\">\n",
       "      <th></th>\n",
       "      <th>medallion</th>\n",
       "      <th>hack_license</th>\n",
       "      <th>vendor_id</th>\n",
       "      <th>rate_code</th>\n",
       "      <th>store_and_fwd_flag</th>\n",
       "      <th>pickup_datetime</th>\n",
       "      <th>dropoff_datetime</th>\n",
       "      <th>passenger_count</th>\n",
       "      <th>trip_time_in_secs</th>\n",
       "      <th>trip_distance</th>\n",
       "      <th>pickup_longitude</th>\n",
       "      <th>pickup_latitude</th>\n",
       "      <th>dropoff_longitude</th>\n",
       "      <th>dropoff_latitude</th>\n",
       "    </tr>\n",
       "  </thead>\n",
       "  <tbody>\n",
       "    <tr>\n",
       "      <th>0</th>\n",
       "      <td>E9A54865CAF737ED003957478C9D8FA1</td>\n",
       "      <td>912A2B86F30CDFE246586972A892367E</td>\n",
       "      <td>CMT</td>\n",
       "      <td>1</td>\n",
       "      <td>N</td>\n",
       "      <td>2013-11-25 15:53:33</td>\n",
       "      <td>2013-11-25 16:00:51</td>\n",
       "      <td>1</td>\n",
       "      <td>437</td>\n",
       "      <td>0.6</td>\n",
       "      <td>-73.978104</td>\n",
       "      <td>40.752968</td>\n",
       "      <td>-73.985756</td>\n",
       "      <td>40.762684</td>\n",
       "    </tr>\n",
       "    <tr>\n",
       "      <th>1</th>\n",
       "      <td>43D85E4D101135DDFC1BC16DF53665FE</td>\n",
       "      <td>B2981CEA18FB7E9D8E676EF228257AD1</td>\n",
       "      <td>CMT</td>\n",
       "      <td>1</td>\n",
       "      <td>N</td>\n",
       "      <td>2013-11-25 15:24:41</td>\n",
       "      <td>2013-11-25 15:30:18</td>\n",
       "      <td>1</td>\n",
       "      <td>336</td>\n",
       "      <td>0.5</td>\n",
       "      <td>-73.982315</td>\n",
       "      <td>40.764828</td>\n",
       "      <td>-73.982132</td>\n",
       "      <td>40.758888</td>\n",
       "    </tr>\n",
       "    <tr>\n",
       "      <th>2</th>\n",
       "      <td>70166F37A5CC66D9A35366764ACC40DC</td>\n",
       "      <td>1BAF0067863EA446E21314F88A600B4D</td>\n",
       "      <td>CMT</td>\n",
       "      <td>1</td>\n",
       "      <td>N</td>\n",
       "      <td>2013-11-25 09:43:42</td>\n",
       "      <td>2013-11-25 10:02:57</td>\n",
       "      <td>1</td>\n",
       "      <td>1154</td>\n",
       "      <td>3.3</td>\n",
       "      <td>-73.982010</td>\n",
       "      <td>40.762508</td>\n",
       "      <td>-74.006851</td>\n",
       "      <td>40.719582</td>\n",
       "    </tr>\n",
       "    <tr>\n",
       "      <th>3</th>\n",
       "      <td>0C05C17E209CA4C15F89107F9D686FF3</td>\n",
       "      <td>57732D1D0E713118D1FB1D359666596E</td>\n",
       "      <td>CMT</td>\n",
       "      <td>1</td>\n",
       "      <td>N</td>\n",
       "      <td>2013-11-25 06:49:58</td>\n",
       "      <td>2013-11-25 07:04:22</td>\n",
       "      <td>1</td>\n",
       "      <td>864</td>\n",
       "      <td>3.8</td>\n",
       "      <td>-73.976006</td>\n",
       "      <td>40.744480</td>\n",
       "      <td>-74.016060</td>\n",
       "      <td>40.717297</td>\n",
       "    </tr>\n",
       "    <tr>\n",
       "      <th>4</th>\n",
       "      <td>0ECC4D3D2025A987532E1E5B5B26A119</td>\n",
       "      <td>2A16D1DBD37DC6AD1BD02913D34E1B1C</td>\n",
       "      <td>CMT</td>\n",
       "      <td>1</td>\n",
       "      <td>N</td>\n",
       "      <td>2013-11-25 10:02:12</td>\n",
       "      <td>2013-11-25 10:17:15</td>\n",
       "      <td>1</td>\n",
       "      <td>902</td>\n",
       "      <td>2.2</td>\n",
       "      <td>-73.952621</td>\n",
       "      <td>40.780964</td>\n",
       "      <td>-73.981628</td>\n",
       "      <td>40.777977</td>\n",
       "    </tr>\n",
       "  </tbody>\n",
       "</table>\n",
       "</div>"
      ],
      "text/plain": [
       "                          medallion                      hack_license  \\\n",
       "0  E9A54865CAF737ED003957478C9D8FA1  912A2B86F30CDFE246586972A892367E   \n",
       "1  43D85E4D101135DDFC1BC16DF53665FE  B2981CEA18FB7E9D8E676EF228257AD1   \n",
       "2  70166F37A5CC66D9A35366764ACC40DC  1BAF0067863EA446E21314F88A600B4D   \n",
       "3  0C05C17E209CA4C15F89107F9D686FF3  57732D1D0E713118D1FB1D359666596E   \n",
       "4  0ECC4D3D2025A987532E1E5B5B26A119  2A16D1DBD37DC6AD1BD02913D34E1B1C   \n",
       "\n",
       "   vendor_id   rate_code  store_and_fwd_flag      pickup_datetime  \\\n",
       "0        CMT           1                   N  2013-11-25 15:53:33   \n",
       "1        CMT           1                   N  2013-11-25 15:24:41   \n",
       "2        CMT           1                   N  2013-11-25 09:43:42   \n",
       "3        CMT           1                   N  2013-11-25 06:49:58   \n",
       "4        CMT           1                   N  2013-11-25 10:02:12   \n",
       "\n",
       "      dropoff_datetime   passenger_count   trip_time_in_secs   trip_distance  \\\n",
       "0  2013-11-25 16:00:51                 1                 437             0.6   \n",
       "1  2013-11-25 15:30:18                 1                 336             0.5   \n",
       "2  2013-11-25 10:02:57                 1                1154             3.3   \n",
       "3  2013-11-25 07:04:22                 1                 864             3.8   \n",
       "4  2013-11-25 10:17:15                 1                 902             2.2   \n",
       "\n",
       "    pickup_longitude   pickup_latitude   dropoff_longitude   dropoff_latitude  \n",
       "0         -73.978104         40.752968          -73.985756          40.762684  \n",
       "1         -73.982315         40.764828          -73.982132          40.758888  \n",
       "2         -73.982010         40.762508          -74.006851          40.719582  \n",
       "3         -73.976006         40.744480          -74.016060          40.717297  \n",
       "4         -73.952621         40.780964          -73.981628          40.777977  "
      ]
     },
     "execution_count": 4,
     "metadata": {},
     "output_type": "execute_result"
    }
   ],
   "source": [
    "trips.head()"
   ]
  },
  {
   "cell_type": "code",
   "execution_count": 5,
   "id": "a17f46d2-5464-4ba1-9cdd-623f796dd2f9",
   "metadata": {},
   "outputs": [
    {
     "data": {
      "text/plain": [
       "medallion               object\n",
       " hack_license           object\n",
       " vendor_id              object\n",
       " rate_code               int64\n",
       " store_and_fwd_flag     object\n",
       " pickup_datetime        object\n",
       " dropoff_datetime       object\n",
       " passenger_count         int64\n",
       " trip_time_in_secs       int64\n",
       " trip_distance         float64\n",
       " pickup_longitude      float64\n",
       " pickup_latitude       float64\n",
       " dropoff_longitude     float64\n",
       " dropoff_latitude      float64\n",
       "dtype: object"
      ]
     },
     "execution_count": 5,
     "metadata": {},
     "output_type": "execute_result"
    }
   ],
   "source": [
    "trips.dtypes"
   ]
  },
  {
   "cell_type": "code",
   "execution_count": 6,
   "id": "edeadacd-44c0-4113-9eb8-80582a5a1555",
   "metadata": {},
   "outputs": [
    {
     "data": {
      "text/plain": [
       "Index(['medallion', 'hack_license', 'vendor_id', 'rate_code',\n",
       "       'store_and_fwd_flag', 'pickup_datetime', 'dropoff_datetime',\n",
       "       'passenger_count', 'trip_time_in_secs', 'trip_distance',\n",
       "       'pickup_longitude', 'pickup_latitude', 'dropoff_longitude',\n",
       "       'dropoff_latitude'],\n",
       "      dtype='object')"
      ]
     },
     "execution_count": 6,
     "metadata": {},
     "output_type": "execute_result"
    }
   ],
   "source": [
    "# some columns have leading whitespace so lets remove it\n",
    "trips.columns = [i.strip() for i in trips.columns] \n",
    "trips.columns"
   ]
  },
  {
   "cell_type": "code",
   "execution_count": 7,
   "id": "d079cf9c-fb2f-40c5-a3f8-3e11ab40832b",
   "metadata": {},
   "outputs": [
    {
     "data": {
      "text/plain": [
       "Index                        128\n",
       "medallion             1280572139\n",
       "hack_license          1280572139\n",
       "vendor_id              863307060\n",
       "rate_code              115107608\n",
       "store_and_fwd_flag     645962376\n",
       "pickup_datetime       1093522276\n",
       "dropoff_datetime      1093522276\n",
       "passenger_count        115107608\n",
       "trip_time_in_secs      115107608\n",
       "trip_distance          115107608\n",
       "pickup_longitude       115107608\n",
       "pickup_latitude        115107608\n",
       "dropoff_longitude      115107608\n",
       "dropoff_latitude       115107608\n",
       "dtype: int64"
      ]
     },
     "execution_count": 7,
     "metadata": {},
     "output_type": "execute_result"
    }
   ],
   "source": [
    "trips.memory_usage(deep=True) "
   ]
  },
  {
   "cell_type": "markdown",
   "id": "bd78fd27-f5ab-470d-bea8-9e642149b463",
   "metadata": {},
   "source": [
    "# Data dictionary\n",
    "#### https://learn.microsoft.com/en-us/azure/open-datasets/dataset-taxi-yellow?tabs=azureml-opendatasets"
   ]
  },
  {
   "cell_type": "markdown",
   "id": "99636c58-b47b-4901-be25-70b1aff740e8",
   "metadata": {},
   "source": [
    "# vendor_id"
   ]
  },
  {
   "cell_type": "code",
   "execution_count": 28,
   "id": "beb8f6f4-3d8d-468e-9b01-70a0d89d69b2",
   "metadata": {},
   "outputs": [
    {
     "data": {
      "text/plain": [
       "vendor_id\n",
       "VTS    7251507\n",
       "CMT    7136944\n",
       "Name: count, dtype: int64"
      ]
     },
     "execution_count": 28,
     "metadata": {},
     "output_type": "execute_result"
    }
   ],
   "source": [
    "# 2 vendor_id\n",
    "# VTS - VeriFone Transportation Systems\n",
    "# CMT - Creative Mobile Technologies\n",
    "\n",
    "trips.vendor_id.value_counts(dropna=False)"
   ]
  },
  {
   "cell_type": "markdown",
   "id": "d2e4819b-f270-49b6-ab88-c8c6fd12d02e",
   "metadata": {},
   "source": [
    "# rate_code"
   ]
  },
  {
   "cell_type": "code",
   "execution_count": 29,
   "id": "f29ab077-0fd2-4536-b369-dc7c187c624a",
   "metadata": {},
   "outputs": [
    {
     "data": {
      "text/plain": [
       "rate_code\n",
       "0          1242\n",
       "1      14074886\n",
       "2        246583\n",
       "3         21953\n",
       "4          4470\n",
       "5         39145\n",
       "6           148\n",
       "7             4\n",
       "8             3\n",
       "9             2\n",
       "10            2\n",
       "210          13\n",
       "Name: count, dtype: int64"
      ]
     },
     "execution_count": 29,
     "metadata": {},
     "output_type": "execute_result"
    }
   ],
   "source": [
    "# https://www.nyc.gov/assets/tlc/downloads/pdf/taxi_information.pdf\n",
    "\n",
    "# The final rate code in effect at the end of the trip. \n",
    "# 1= Standard rate; \n",
    "# 2= JFK; ?and manhattan?\n",
    "# 3= Newark; \n",
    "# 4= Nassau or Westchester; \n",
    "# 5= Negotiated fare; ?ooc negotiated rate?\n",
    "# 6= Group ride.\n",
    "\n",
    "# 0,7,8,9,210? to be removed\n",
    "\n",
    "trips.rate_code.value_counts(dropna=False).sort_index()"
   ]
  },
  {
   "cell_type": "markdown",
   "id": "d2307b3c-074c-4768-84cd-665d0c129312",
   "metadata": {},
   "source": [
    "# store_and_fwd_flag"
   ]
  },
  {
   "cell_type": "code",
   "execution_count": 30,
   "id": "df126691-9fde-4132-9985-8fc1b7934b7e",
   "metadata": {},
   "outputs": [
    {
     "data": {
      "text/plain": [
       "store_and_fwd_flag\n",
       "N      6999327\n",
       "Y       136517\n",
       "NaN    7252607\n",
       "Name: count, dtype: int64"
      ]
     },
     "execution_count": 30,
     "metadata": {},
     "output_type": "execute_result"
    }
   ],
   "source": [
    "# This flag indicates whether the trip record was held in vehicle memory \n",
    "# before sending to the vendor, also known as “store and forward,” \n",
    "# because the vehicle did not have a connection to the server. \n",
    "# Y= store and forward trip; N= not a store and forward trip.\n",
    "\n",
    "trips.store_and_fwd_flag.value_counts(dropna=False).sort_index()"
   ]
  },
  {
   "cell_type": "markdown",
   "id": "d671f0a8-d5b0-4462-a2a8-5200a2c9a5cb",
   "metadata": {},
   "source": [
    "# passenger_count"
   ]
  },
  {
   "cell_type": "code",
   "execution_count": 31,
   "id": "c935f91c-c5d7-4bf7-b262-b730a18b2880",
   "metadata": {},
   "outputs": [
    {
     "data": {
      "text/plain": [
       "passenger_count\n",
       "0           869\n",
       "1      10085655\n",
       "2       2027512\n",
       "3        621673\n",
       "4        301112\n",
       "5        789652\n",
       "6        561945\n",
       "7            12\n",
       "8             8\n",
       "9            11\n",
       "208           2\n",
       "Name: count, dtype: int64"
      ]
     },
     "execution_count": 31,
     "metadata": {},
     "output_type": "execute_result"
    }
   ],
   "source": [
    "# number of passengers in the taxi\n",
    "# remove where 0 or 7+\n",
    "trips.passenger_count.value_counts(dropna=False).sort_index()"
   ]
  },
  {
   "cell_type": "code",
   "execution_count": null,
   "id": "373dca5d-7d0f-4e19-9300-1001f8328da6",
   "metadata": {},
   "outputs": [],
   "source": []
  },
  {
   "cell_type": "code",
   "execution_count": 31,
   "id": "5eeb7357-06bf-497d-8431-65be37718833",
   "metadata": {},
   "outputs": [
    {
     "data": {
      "image/png": "[encoded data removed]",
      "text/plain": [
       "<Figure size 640x480 with 1 Axes>"
      ]
     },
     "metadata": {},
     "output_type": "display_data"
    }
   ],
   "source": [
    "plt.hist(trips['trip_time_in_secs'], bins=100)\n",
    "plt.show()"
   ]
  },
  {
   "cell_type": "code",
   "execution_count": null,
   "id": "79f97b73-dd5a-45a0-9649-b55172016b8b",
   "metadata": {},
   "outputs": [],
   "source": []
  },
  {
   "cell_type": "code",
   "execution_count": 12,
   "id": "06745c39-617f-4226-94ca-de734fe2f525",
   "metadata": {},
   "outputs": [
    {
     "data": {
      "text/html": [
       "<div>\n",
       "<style scoped>\n",
       "    .dataframe tbody tr th:only-of-type {\n",
       "        vertical-align: middle;\n",
       "    }\n",
       "\n",
       "    .dataframe tbody tr th {\n",
       "        vertical-align: top;\n",
       "    }\n",
       "\n",
       "    .dataframe thead th {\n",
       "        text-align: right;\n",
       "    }\n",
       "</style>\n",
       "<table border=\"1\" class=\"dataframe\">\n",
       "  <thead>\n",
       "    <tr style=\"text-align: right;\">\n",
       "      <th></th>\n",
       "      <th>medallion</th>\n",
       "      <th>hack_license</th>\n",
       "      <th>vendor_id</th>\n",
       "      <th>rate_code</th>\n",
       "      <th>store_and_fwd_flag</th>\n",
       "      <th>pickup_datetime</th>\n",
       "      <th>dropoff_datetime</th>\n",
       "      <th>passenger_count</th>\n",
       "      <th>trip_time_in_secs</th>\n",
       "      <th>trip_distance</th>\n",
       "      <th>pickup_longitude</th>\n",
       "      <th>pickup_latitude</th>\n",
       "      <th>dropoff_longitude</th>\n",
       "      <th>dropoff_latitude</th>\n",
       "    </tr>\n",
       "  </thead>\n",
       "  <tbody>\n",
       "    <tr>\n",
       "      <th>0</th>\n",
       "      <td>E9A54865CAF737ED003957478C9D8FA1</td>\n",
       "      <td>912A2B86F30CDFE246586972A892367E</td>\n",
       "      <td>CMT</td>\n",
       "      <td>1</td>\n",
       "      <td>N</td>\n",
       "      <td>2013-11-25 15:53:33</td>\n",
       "      <td>2013-11-25 16:00:51</td>\n",
       "      <td>1</td>\n",
       "      <td>437</td>\n",
       "      <td>0.6</td>\n",
       "      <td>-73.978104</td>\n",
       "      <td>40.752968</td>\n",
       "      <td>-73.985756</td>\n",
       "      <td>40.762684</td>\n",
       "    </tr>\n",
       "    <tr>\n",
       "      <th>1</th>\n",
       "      <td>43D85E4D101135DDFC1BC16DF53665FE</td>\n",
       "      <td>B2981CEA18FB7E9D8E676EF228257AD1</td>\n",
       "      <td>CMT</td>\n",
       "      <td>1</td>\n",
       "      <td>N</td>\n",
       "      <td>2013-11-25 15:24:41</td>\n",
       "      <td>2013-11-25 15:30:18</td>\n",
       "      <td>1</td>\n",
       "      <td>336</td>\n",
       "      <td>0.5</td>\n",
       "      <td>-73.982315</td>\n",
       "      <td>40.764828</td>\n",
       "      <td>-73.982132</td>\n",
       "      <td>40.758888</td>\n",
       "    </tr>\n",
       "    <tr>\n",
       "      <th>2</th>\n",
       "      <td>70166F37A5CC66D9A35366764ACC40DC</td>\n",
       "      <td>1BAF0067863EA446E21314F88A600B4D</td>\n",
       "      <td>CMT</td>\n",
       "      <td>1</td>\n",
       "      <td>N</td>\n",
       "      <td>2013-11-25 09:43:42</td>\n",
       "      <td>2013-11-25 10:02:57</td>\n",
       "      <td>1</td>\n",
       "      <td>1154</td>\n",
       "      <td>3.3</td>\n",
       "      <td>-73.982010</td>\n",
       "      <td>40.762508</td>\n",
       "      <td>-74.006851</td>\n",
       "      <td>40.719582</td>\n",
       "    </tr>\n",
       "    <tr>\n",
       "      <th>3</th>\n",
       "      <td>0C05C17E209CA4C15F89107F9D686FF3</td>\n",
       "      <td>57732D1D0E713118D1FB1D359666596E</td>\n",
       "      <td>CMT</td>\n",
       "      <td>1</td>\n",
       "      <td>N</td>\n",
       "      <td>2013-11-25 06:49:58</td>\n",
       "      <td>2013-11-25 07:04:22</td>\n",
       "      <td>1</td>\n",
       "      <td>864</td>\n",
       "      <td>3.8</td>\n",
       "      <td>-73.976006</td>\n",
       "      <td>40.744480</td>\n",
       "      <td>-74.016060</td>\n",
       "      <td>40.717297</td>\n",
       "    </tr>\n",
       "    <tr>\n",
       "      <th>4</th>\n",
       "      <td>0ECC4D3D2025A987532E1E5B5B26A119</td>\n",
       "      <td>2A16D1DBD37DC6AD1BD02913D34E1B1C</td>\n",
       "      <td>CMT</td>\n",
       "      <td>1</td>\n",
       "      <td>N</td>\n",
       "      <td>2013-11-25 10:02:12</td>\n",
       "      <td>2013-11-25 10:17:15</td>\n",
       "      <td>1</td>\n",
       "      <td>902</td>\n",
       "      <td>2.2</td>\n",
       "      <td>-73.952621</td>\n",
       "      <td>40.780964</td>\n",
       "      <td>-73.981628</td>\n",
       "      <td>40.777977</td>\n",
       "    </tr>\n",
       "  </tbody>\n",
       "</table>\n",
       "</div>"
      ],
      "text/plain": [
       "                          medallion                      hack_license  \\\n",
       "0  E9A54865CAF737ED003957478C9D8FA1  912A2B86F30CDFE246586972A892367E   \n",
       "1  43D85E4D101135DDFC1BC16DF53665FE  B2981CEA18FB7E9D8E676EF228257AD1   \n",
       "2  70166F37A5CC66D9A35366764ACC40DC  1BAF0067863EA446E21314F88A600B4D   \n",
       "3  0C05C17E209CA4C15F89107F9D686FF3  57732D1D0E713118D1FB1D359666596E   \n",
       "4  0ECC4D3D2025A987532E1E5B5B26A119  2A16D1DBD37DC6AD1BD02913D34E1B1C   \n",
       "\n",
       "  vendor_id  rate_code store_and_fwd_flag      pickup_datetime  \\\n",
       "0       CMT          1                  N  2013-11-25 15:53:33   \n",
       "1       CMT          1                  N  2013-11-25 15:24:41   \n",
       "2       CMT          1                  N  2013-11-25 09:43:42   \n",
       "3       CMT          1                  N  2013-11-25 06:49:58   \n",
       "4       CMT          1                  N  2013-11-25 10:02:12   \n",
       "\n",
       "      dropoff_datetime  passenger_count  trip_time_in_secs  trip_distance  \\\n",
       "0  2013-11-25 16:00:51                1                437            0.6   \n",
       "1  2013-11-25 15:30:18                1                336            0.5   \n",
       "2  2013-11-25 10:02:57                1               1154            3.3   \n",
       "3  2013-11-25 07:04:22                1                864            3.8   \n",
       "4  2013-11-25 10:17:15                1                902            2.2   \n",
       "\n",
       "   pickup_longitude  pickup_latitude  dropoff_longitude  dropoff_latitude  \n",
       "0        -73.978104        40.752968         -73.985756         40.762684  \n",
       "1        -73.982315        40.764828         -73.982132         40.758888  \n",
       "2        -73.982010        40.762508         -74.006851         40.719582  \n",
       "3        -73.976006        40.744480         -74.016060         40.717297  \n",
       "4        -73.952621        40.780964         -73.981628         40.777977  "
      ]
     },
     "execution_count": 12,
     "metadata": {},
     "output_type": "execute_result"
    }
   ],
   "source": [
    "trips.head()"
   ]
  },
  {
   "cell_type": "code",
   "execution_count": 13,
   "id": "9d9ea6e0-4c24-43f6-94f4-2e77b103c060",
   "metadata": {},
   "outputs": [
    {
     "data": {
      "text/plain": [
       "(14388451, 14)"
      ]
     },
     "execution_count": 13,
     "metadata": {},
     "output_type": "execute_result"
    }
   ],
   "source": [
    "trips.shape"
   ]
  },
  {
   "cell_type": "code",
   "execution_count": null,
   "id": "e58b452c-24d3-4a72-9e06-b1023d4a01ba",
   "metadata": {},
   "outputs": [],
   "source": [
    "# Drop rows\n",
    "# passenger_count = 0\n",
    "# trip_distance = 0\n",
    "# trip_time_in_secs = 0\n",
    "# pickup_longitude = 0.0\n",
    "# pickup_latitude = 0.0\n",
    "# dropoff_longitude = 0.0\n",
    "# dropoff_latitude = 0.0"
   ]
  },
  {
   "cell_type": "code",
   "execution_count": null,
   "id": "1fe60835-86eb-4abc-984f-ceb721e9542d",
   "metadata": {},
   "outputs": [],
   "source": [
    "# indices to drop from df\n",
    "df[~df.index.isin(indices)]"
   ]
  },
  {
   "cell_type": "markdown",
   "id": "1691fb37-6250-4c21-8836-6efbfc0929d0",
   "metadata": {},
   "source": [
    "# Dropping rows with invalid values"
   ]
  },
  {
   "cell_type": "code",
   "execution_count": 32,
   "id": "29f11f79-cbe4-4a8d-9996-8bda2482fb8a",
   "metadata": {},
   "outputs": [
    {
     "name": "stdout",
     "output_type": "stream",
     "text": [
      "Rows with passenger_count=0: 869\n",
      "Rows with trip_time_in_secs=0: 41388\n",
      "Rows with trip_distance=0: 77304\n",
      "Rows with rate_code in [0,7,8,9,210]: 1264\n"
     ]
    }
   ],
   "source": [
    "print(\"Rows with passenger_count=0:\", len(trips[trips['passenger_count']==0]))\n",
    "print(\"Rows with trip_time_in_secs=0:\", len(trips[trips['trip_time_in_secs']==0]))\n",
    "print(\"Rows with trip_distance=0:\", len(trips[trips['trip_distance']==0.0]))\n",
    "print(\"Rows with rate_code in [0,7,8,9,210]:\", len(trips[trips['rate_code'].isin([0,7,8,9,210])]))\n",
    "\n",
    "# print(\"Rows with pickup_longitude=0:\", len(trips.loc[trips['pickup_longitude']==0.0]))"
   ]
  },
  {
   "cell_type": "code",
   "execution_count": null,
   "id": "11d4fffe-1f2f-4d39-8619-b332d723b8ff",
   "metadata": {},
   "outputs": [],
   "source": []
  },
  {
   "cell_type": "code",
   "execution_count": 25,
   "id": "5d48f384-1096-41a3-bee2-2ff6dd19a624",
   "metadata": {},
   "outputs": [
    {
     "name": "stdout",
     "output_type": "stream",
     "text": [
      "Distinct rows dropped: 90542\n"
     ]
    }
   ],
   "source": [
    "passenger_count_indices_to_drop = trips[trips['passenger_count']==0].index.tolist()\n",
    "trip_time_in_secs_indices_to_drop = trips[trips['trip_time_in_secs']==0].index.tolist()\n",
    "trip_distance_indices_to_drop = trips[trips['trip_distance']==0.0].index.tolist()\n",
    "rate_code_indices_to_drop = trips[trips['rate_code'].isin([0,7,8,9,210])].index.tolist()\n",
    "\n",
    "indices_to_drop = list(set(passenger_count_indices_to_drop + \n",
    "                           trip_time_in_secs_indices_to_drop + \n",
    "                           trip_distance_indices_to_drop + \n",
    "                          rate_code_indices_to_drop))\n",
    "\n",
    "print(f\"Distinct rows dropped: {len(indices_to_drop)}\")"
   ]
  },
  {
   "cell_type": "code",
   "execution_count": 26,
   "id": "77f82640-3536-4f43-9439-d85ff255d89f",
   "metadata": {},
   "outputs": [
    {
     "data": {
      "text/plain": [
       "(14297909, 14)"
      ]
     },
     "execution_count": 26,
     "metadata": {},
     "output_type": "execute_result"
    }
   ],
   "source": [
    "df = trips[~trips.index.isin(indices_to_drop)]\n",
    "df.shape"
   ]
  },
  {
   "cell_type": "code",
   "execution_count": null,
   "id": "d1bf2dea-3b0e-45e9-828d-dad7dec30f6c",
   "metadata": {},
   "outputs": [],
   "source": []
  },
  {
   "cell_type": "code",
   "execution_count": null,
   "id": "0b66bf0a-9ed0-4da4-a31f-3b9bcc999d07",
   "metadata": {},
   "outputs": [],
   "source": []
  },
  {
   "cell_type": "code",
   "execution_count": null,
   "id": "47aa338e-ba5f-44d3-81e5-1247bff2ded1",
   "metadata": {},
   "outputs": [],
   "source": []
  },
  {
   "cell_type": "code",
   "execution_count": null,
   "id": "c2cd4a2d-9241-4159-810d-1ef1c7190385",
   "metadata": {},
   "outputs": [],
   "source": []
  },
  {
   "cell_type": "code",
   "execution_count": null,
   "id": "7cd6de98-1bb3-4ff8-ac3f-26f41dba943e",
   "metadata": {},
   "outputs": [],
   "source": []
  },
  {
   "cell_type": "markdown",
   "id": "cd76b6a2-3ea0-4d47-a34a-720173aca3a1",
   "metadata": {},
   "source": [
    "# Exploratory Analysis\n",
    "1. What are busiest locations and hours?\n",
    "2. How are passengers per trip, payment type, fare and tip amounts distributed?\n",
    "3. How do times and fares vary by trips?\n",
    "4. Is it possible to characterise taxi drivers based on work hours and how much they make?"
   ]
  },
  {
   "cell_type": "code",
   "execution_count": null,
   "id": "91e5d06b-2267-4ce8-9396-e1c56547f13d",
   "metadata": {},
   "outputs": [],
   "source": []
  },
  {
   "cell_type": "code",
   "execution_count": null,
   "id": "df83e837-da46-4c59-bdb1-7a572d18f522",
   "metadata": {},
   "outputs": [],
   "source": []
  },
  {
   "cell_type": "code",
   "execution_count": null,
   "id": "457e5503-f844-4538-8935-6b0ccadc407d",
   "metadata": {},
   "outputs": [],
   "source": []
  },
  {
   "cell_type": "code",
   "execution_count": null,
   "id": "747e3bd6-2a79-48c4-8612-5d73911dbb8d",
   "metadata": {},
   "outputs": [],
   "source": []
  },
  {
   "cell_type": "code",
   "execution_count": null,
   "id": "3d5717c7-68b1-44a0-831e-1b7feb6cea49",
   "metadata": {},
   "outputs": [],
   "source": []
  },
  {
   "cell_type": "code",
   "execution_count": null,
   "id": "566cfac6-5c13-4785-b82a-6d92a225da65",
   "metadata": {},
   "outputs": [],
   "source": []
  }
 ],
 "metadata": {
  "kernelspec": {
   "display_name": "nyc-env",
   "language": "python",
   "name": "nyc-env"
  },
  "language_info": {
   "codemirror_mode": {
    "name": "ipython",
    "version": 3
   },
   "file_extension": ".py",
   "mimetype": "text/x-python",
   "name": "python",
   "nbconvert_exporter": "python",
   "pygments_lexer": "ipython3",
   "version": "3.10.11"
  }
 },
 "nbformat": 4,
 "nbformat_minor": 5
}
